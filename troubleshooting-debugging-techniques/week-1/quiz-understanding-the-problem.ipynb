{
 "cells": [
  {
   "cell_type": "markdown",
   "id": "743256fa",
   "metadata": {},
   "source": [
    "### 1. When a user reports that an \"application doesn't work,\" what is an appropriate follow-up question to gather more information about the problem?\n",
    "- [ ] Is the server plugged in?\n",
    "- [ ] Why do you need the application?\n",
    "- [ ] Do you have a support ticket number?\n",
    "- [x] **What should happen when you open the app?**\n",
    "\n",
    "### 2. What is a heisenbug?\n",
    "- [x] **The observer effect.**\n",
    "- [ ] A test environment.\n",
    "- [ ] The root cause.\n",
    "- [ ] An event viewer."
   ]
  },
  {
   "cell_type": "markdown",
   "id": "f3d0ddda",
   "metadata": {},
   "source": [
    "### 3. The compare_strings function is supposed to compare just the alphanumeric content of two strings, ignoring upper vs lower case and punctuation. But something is not working. Fill in the code to try to find the problems, then fix the problems."
   ]
  },
  {
   "cell_type": "code",
   "execution_count": 1,
   "id": "1fe107fc",
   "metadata": {},
   "outputs": [
    {
     "name": "stdout",
     "output_type": "stream",
     "text": [
      "True\n",
      "True\n",
      "False\n",
      "False\n"
     ]
    }
   ],
   "source": [
    "import re\n",
    "def compare_strings(string1, string2):\n",
    "  #Convert both strings to lowercase \n",
    "  #and remove leading and trailing blanks\n",
    "  string1 = string1.lower().strip()\n",
    "  string2 = string2.lower().strip()\n",
    "\n",
    "  #Ignore punctuation\n",
    "  punctuation = r\"[^a-zA-Z0-9 ]\"\n",
    "  new_string1 = re.sub(punctuation, \"\", string1)\n",
    "  new_string2 = re.sub(punctuation, \"\", string2)\n",
    "\n",
    "  #DEBUG CODE GOES HERE\n",
    "  # print(___)\n",
    "\n",
    "  return new_string1 == new_string2\n",
    "\n",
    "print(compare_strings(\"Have a Great Day!\", \"Have a great day?\")) # True\n",
    "print(compare_strings(\"It's raining again.\", \"its raining, again\")) # True\n",
    "print(compare_strings(\"Learn to count: 1, 2, 3.\", \"Learn to count: one, two, three.\")) # False\n",
    "print(compare_strings(\"They found some body.\", \"They found somebody.\")) # False"
   ]
  },
  {
   "cell_type": "markdown",
   "id": "2eff04ba",
   "metadata": {},
   "source": [
    "### 4. How do we verify if a problem is still persisting or not?\n",
    "\n",
    "- [ ] Restart the device or server hardware\n",
    "- [x] **Attempt to trigger the problem again by following the steps of our reproduction case**\n",
    "- [ ] Repeatedly ask the user\n",
    "- [ ] Check again later\n",
    "\n",
    "### 5. The datetime module supplies classes for manipulating dates and times, and contains many types, objects, and methods. You've seen some of them used in the dow function, which returns the day of the week for a specific date. We'll use them again in the next_date function, which takes the date_string parameter in the format of \"year-month-day\", and uses the add_year function to calculate the next year that this date will occur (it's 4 years later for the 29th of February during Leap Year, and 1 year later for all other dates). Then it returns the value in the same format as it receives the date: \"year-month-day\".   \n",
    "\n",
    "### Can you find the error in the code? Is it in the next_date function or the add_year function? How can you determine if the add_year function returns what it's supposed to? Add debug lines as necessary to find the problems, then fix the code to work as indicated above. "
   ]
  },
  {
   "cell_type": "code",
   "execution_count": 2,
   "id": "a7474472",
   "metadata": {},
   "outputs": [
    {
     "name": "stdout",
     "output_type": "stream",
     "text": [
      "2023-02-28\n",
      "2022-01-01\n",
      "2024-02-29\n"
     ]
    }
   ],
   "source": [
    "import datetime\n",
    "from datetime import date\n",
    "\n",
    "def add_year(date_obj):\n",
    "  try:\n",
    "    new_date_obj = date_obj.replace(year = date_obj.year + 1)\n",
    "  except ValueError:\n",
    "    # This gets executed when the above method fails, \n",
    "    # which means that we're making a Leap Year calculation\n",
    "    new_date_obj = date_obj.replace(year = date_obj.year + 4)\n",
    "  return new_date_obj\n",
    "\n",
    "def next_date(date_string):\n",
    "  # Convert the argument from string to date object\n",
    "  date_obj = datetime.datetime.strptime(date_string, r\"%Y-%m-%d\")\n",
    "  next_date_obj = add_year(date_obj)\n",
    "\n",
    "  # Convert the datetime object to string, \n",
    "  # in the format of \"yyyy-mm-dd\"\n",
    "  next_date_string = next_date_obj.strftime(\"%Y-%m-%d\")\n",
    "  return next_date_string\n",
    "\n",
    "today = date.today()  # Get today's date\n",
    "print(next_date(str(today))) \n",
    "# Should return a year from today, unless today is Leap Day\n",
    "\n",
    "print(next_date(\"2021-01-01\")) # Should return 2022-01-01\n",
    "print(next_date(\"2020-02-29\")) # Should return 2024-02-29"
   ]
  }
 ],
 "metadata": {
  "kernelspec": {
   "display_name": "Python 3 (ipykernel)",
   "language": "python",
   "name": "python3"
  },
  "language_info": {
   "codemirror_mode": {
    "name": "ipython",
    "version": 3
   },
   "file_extension": ".py",
   "mimetype": "text/x-python",
   "name": "python",
   "nbconvert_exporter": "python",
   "pygments_lexer": "ipython3",
   "version": "3.9.1"
  }
 },
 "nbformat": 4,
 "nbformat_minor": 5
}
