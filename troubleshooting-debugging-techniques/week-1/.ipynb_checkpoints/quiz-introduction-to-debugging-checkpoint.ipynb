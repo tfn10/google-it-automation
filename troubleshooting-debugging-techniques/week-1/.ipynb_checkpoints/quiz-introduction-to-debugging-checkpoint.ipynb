{
 "cells": [
  {
   "cell_type": "markdown",
   "id": "ba08fcaa",
   "metadata": {},
   "source": [
    "### 1. What is part of the final step when problem solving?\n",
    "- [ ] Documentation\n",
    "- [x] **Long-term remediation**\n",
    "- [ ] Finding the root cause\n",
    "- [ ] Gathering information\n",
    "\n",
    "### 2. Which tool can you use when debugging to look at library calls made by the software?\n",
    "- [ ] top\n",
    "- [ ] strace\n",
    "- [ ] tcpdump\n",
    "- [x] **ltrace**\n",
    "\n",
    "### 3. What is the first step of problem solving?\n",
    "- [ ] Prevention\n",
    "- [x] **Gathering information**\n",
    "- [ ] Long-term remediation\n",
    "- [ ] Finding the root cause\n",
    "\n",
    "### 4. What software tools are used to analyze network traffic to isolate problems? (Check all that apply)\n",
    "- [x] **tcpdump**\n",
    "- [x] **wireshark**\n",
    "- [ ] strace\n",
    "- [ ] top\n",
    "\n",
    "### 5. The strace (in Linux) tool allows us to see all of the _____ our program has made.\n",
    "\n",
    "- [ ] Network traffic\n",
    "- [ ] Disk writes\n",
    "- [x] **System calls**\n",
    "- [ ] Connection requests"
   ]
  }
 ],
 "metadata": {
  "kernelspec": {
   "display_name": "Python 3 (ipykernel)",
   "language": "python",
   "name": "python3"
  },
  "language_info": {
   "codemirror_mode": {
    "name": "ipython",
    "version": 3
   },
   "file_extension": ".py",
   "mimetype": "text/x-python",
   "name": "python",
   "nbconvert_exporter": "python",
   "pygments_lexer": "ipython3",
   "version": "3.9.1"
  }
 },
 "nbformat": 4,
 "nbformat_minor": 5
}
