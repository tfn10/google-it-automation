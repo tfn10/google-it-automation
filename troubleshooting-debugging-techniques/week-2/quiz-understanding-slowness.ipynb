{
 "cells": [
  {
   "cell_type": "markdown",
   "id": "89ba20e6",
   "metadata": {},
   "source": [
    "### 1. Which of the following will an application spend the longest time retrieving data from?\n",
    "- [ ] CPU L2 cache\n",
    "- [ ] RAM\n",
    "- [ ] Disk\n",
    "- [x] **The network**\n",
    "\n",
    "### 2. Which tool can you use to verify reports of 'slowness' for web pages served by a web server you manage?\n",
    "- [ ] The top tool\n",
    "- [x] **The ab tool**\n",
    "- [ ] The nice tool\n",
    "- [ ] The pidof tool\n",
    "\n",
    "### 3. If our computer running Microsoft Windows is running slow, what performance monitoring tools can we use to analyze our system resource usage to identify the bottleneck? (Check all that apply)\n",
    "- [x] **Performance Monitor**\n",
    "- [x] **Resource Monitor**\n",
    "- [ ] Activity Monitor\n",
    "- [ ] top\n",
    "\n",
    "### 4. Which of the following programs is likely to run faster and more efficiently, with the least slowdown?\n",
    "- [ ] A program with a cache stored on a hard drive\n",
    "- [x] **A program small enough to fit in RAM**\n",
    "- [ ] A program that reads files from an optical disc\n",
    "- [ ] A program that retrieves most of its data from the Internet\n",
    "\n",
    "### 5. What might cause a single application to slow down an entire system? (Check all that apply)\n",
    "- [x] **A memory leak**\n",
    "- [ ] The application relies on a slow network connection\n",
    "- [x] **Handling files that have grown too large**\n",
    "- [ ] Hardware faults"
   ]
  }
 ],
 "metadata": {
  "kernelspec": {
   "display_name": "Python 3 (ipykernel)",
   "language": "python",
   "name": "python3"
  },
  "language_info": {
   "codemirror_mode": {
    "name": "ipython",
    "version": 3
   },
   "file_extension": ".py",
   "mimetype": "text/x-python",
   "name": "python",
   "nbconvert_exporter": "python",
   "pygments_lexer": "ipython3",
   "version": "3.9.1"
  }
 },
 "nbformat": 4,
 "nbformat_minor": 5
}
