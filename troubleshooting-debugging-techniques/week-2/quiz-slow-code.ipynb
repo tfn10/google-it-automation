{
 "cells": [
  {
   "cell_type": "markdown",
   "id": "b6db3f05",
   "metadata": {},
   "source": [
    "### 1. Which of the following is NOT considered an expensive operation?\n",
    "- [ ] Parsing a file\n",
    "- [ ] Downloading data over the network\n",
    "- [ ] Going through a list\n",
    "- [x] **Using a dictionary**\n",
    "\n",
    "### 2. Which of the following may be the most expensive to carry out in most automation tasks in a script?\n",
    "- [x] **Loops**\n",
    "- [ ] Lists\n",
    "- [ ] Vector\n",
    "- [ ] Hash\n",
    "\n",
    "### 3. Which of the following statements represents the most sound advice when writing scripts?\n",
    "- [ ] Aim for every speed advantage you can get in your code\n",
    "- [ ] Use expensive operations often\n",
    "- [x] **Start by writing clear code, then speed it up only if necessary**\n",
    "- [ ] Use loops as often as possible\n",
    "\n",
    "### 4. In Python, what is a data structure that stores multiple pieces of data, in order, which can be changed later?\n",
    "- [ ] A hash\n",
    "- [ ] Dictionaries\n",
    "- [x] **Lists**\n",
    "- [ ] Tuples\n",
    "\n",
    "### 5. What command, keyword, module, or tool can be used to measure the amount of time it takes for an operation or program to execute? (Check all that apply)\n",
    "- [x] **time**\n",
    "- [x] **kcachegrind**\n",
    "- [x] **cProfile**\n",
    "- [ ] break"
   ]
  }
 ],
 "metadata": {
  "kernelspec": {
   "display_name": "Python 3 (ipykernel)",
   "language": "python",
   "name": "python3"
  },
  "language_info": {
   "codemirror_mode": {
    "name": "ipython",
    "version": 3
   },
   "file_extension": ".py",
   "mimetype": "text/x-python",
   "name": "python",
   "nbconvert_exporter": "python",
   "pygments_lexer": "ipython3",
   "version": "3.9.1"
  }
 },
 "nbformat": 4,
 "nbformat_minor": 5
}
