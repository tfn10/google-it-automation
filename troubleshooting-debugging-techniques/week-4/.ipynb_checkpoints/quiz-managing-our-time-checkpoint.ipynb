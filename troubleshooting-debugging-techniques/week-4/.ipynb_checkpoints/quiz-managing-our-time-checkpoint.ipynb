{
 "cells": [
  {
   "cell_type": "markdown",
   "id": "17d6c5b9",
   "metadata": {},
   "source": [
    "### 1. Using the Eisenhower Decision Matrix, which of the following is an example of an event or task that is both Important, and Urgent?\n",
    "- [ ] Office gossip\n",
    "- [ ] Replying to emails\n",
    "- [x] **Internet connection is down**\n",
    "- [ ] Follow-up to a recently resolved issue\n",
    "\n",
    "### 2. You’re working on a web server issue that’s preventing all users from accessing the site. You then receive a call from user to reset their user account password. Which appropriate action should you take when prioritizing your tasks?\n",
    "- [ ] Reset the user's password\n",
    "- [ ] Create a script to automate password resets\n",
    "- [x] **Ask the user to open a support ticket.**\n",
    "- [ ] Ignore the user, and troubleshoot web server.\n",
    "\n",
    "### 3. What is it called when we make more work for ourselves later by taking shortcuts now?\n",
    "- [x] Technical debt\n",
    "- [ ] Ticket tracking\n",
    "- [ ] Eisenhower Decision Matrix\n",
    "- [ ] Automation\n",
    "\n",
    "### 4. What is the first step of prioritizing our time properly?\n",
    "- [ ] Work on urgent tasks first\n",
    "- [ ] Assess the importance of each issue\n",
    "- [x] **Make a list of all tasks**\n",
    "- [ ] Estimate the time each task will takx\n",
    "\n",
    "### 5. If an issue isn't solved within the time estimate thxt you provided, what should you do? (Select all that apply)\n",
    "- [x] **Explain why**\n",
    "- [ ] Drop everything and perform that task immediately\n",
    "- [x] **Give an updated time estimate**\n",
    "- [ ] Put the task at the end of the list"
   ]
  }
 ],
 "metadata": {
  "kernelspec": {
   "display_name": "Python 3 (ipykernel)",
   "language": "python",
   "name": "python3"
  },
  "language_info": {
   "codemirror_mode": {
    "name": "ipython",
    "version": 3
   },
   "file_extension": ".py",
   "mimetype": "text/x-python",
   "name": "python",
   "nbconvert_exporter": "python",
   "pygments_lexer": "ipython3",
   "version": "3.9.1"
  }
 },
 "nbformat": 4,
 "nbformat_minor": 5
}
