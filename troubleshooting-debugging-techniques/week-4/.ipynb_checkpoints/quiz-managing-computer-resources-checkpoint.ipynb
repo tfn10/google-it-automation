{
 "cells": [
  {
   "cell_type": "markdown",
   "id": "586e09ab",
   "metadata": {},
   "source": [
    "### 1. How can you profile an entire Python application?\n",
    "- [ ] Use an @profile label\n",
    "- [x] **Use the guppy module**\n",
    "- [ ] Use Memory Profiler\n",
    "- [ ] Use a decorator\n",
    "\n",
    "### 2. Your application is having difficulty sending and receiving large packets of data, which are also delaying other processes when connected to remote computers. Which of the following will be most effective on improving network traffic for the application?\n",
    "- [ ] Running the iftop program\n",
    "- [ ] Increase storage capacity\n",
    "- [ ] Increase memory capacity\n",
    "- [x] **Use traffic shaping**\n",
    "\n",
    "### 3. What is the term referring to the amount of time it takes for a request to reach its destination, usually measured in milliseconds (ms)?\n",
    "- [ ] Bandwidth\n",
    "- [x] **Latency**\n",
    "- [ ] Number of connections\n",
    "- [ ] Traffic shaping\n",
    "\n",
    "### 4. If your computer is slowing down, what Linux program might we use to determine if we have a memory leak and what process might be causing it?\n",
    "- [x] **top**\n",
    "- [ ] gparted\n",
    "- [ ] iftop\n",
    "- [ ] cron\n",
    "\n",
    "### 5. Some programs open a temporary file, and immediately _____ the file before the process finishes, then the file continues to grow, which can cause slowdown.\n",
    "- [ ] open\n",
    "- [ ] close\n",
    "- [x] **delete**\n",
    "- [ ] write to"
   ]
  }
 ],
 "metadata": {
  "kernelspec": {
   "display_name": "Python 3 (ipykernel)",
   "language": "python",
   "name": "python3"
  },
  "language_info": {
   "codemirror_mode": {
    "name": "ipython",
    "version": 3
   },
   "file_extension": ".py",
   "mimetype": "text/x-python",
   "name": "python",
   "nbconvert_exporter": "python",
   "pygments_lexer": "ipython3",
   "version": "3.9.1"
  }
 },
 "nbformat": 4,
 "nbformat_minor": 5
}
