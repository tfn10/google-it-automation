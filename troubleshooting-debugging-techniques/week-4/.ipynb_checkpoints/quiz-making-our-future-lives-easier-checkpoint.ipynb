{
 "cells": [
  {
   "cell_type": "markdown",
   "id": "132bca63",
   "metadata": {},
   "source": [
    "### 1. Which proactive practice can you implement to make troubleshooting issues in a program easier when they happen again, or face other similar issues?\n",
    "- [x] **Create and update documentation**\n",
    "- [ ] Use a test environment.\n",
    "- [ ] Automate rollbacks.\n",
    "- [ ] Set up Unit tests.\n",
    "\n",
    "### 2. Which of the following is a good example of mixing and matching resources on a single server so that the running services make the best possible use of all resources?\n",
    "- [ ] Run two applications that are CPU intensive between two servers.\n",
    "- [ ] Run a CPU intensive application on one server, and an I/O intensive application on another server.\n",
    "- [x] **Run a RAM intensive application and a CPU intensive application on a server.**\n",
    "- [ ] Run two applications that are RAM and I/O intensive on a server.\n",
    "\n",
    "### 3. One strategy for debugging involves explaining the problem to yourself out loud. What is this technique known as?\n",
    "- [ ] Monitoring\n",
    "- [x] **Rubber Ducking**\n",
    "- [ ] Testing\n",
    "- [ ] Ticketing\n",
    "\n",
    "### 4. When deploying software, what is a canary? \n",
    "- [ ] A test for how components of a program interact with each other\n",
    "- [ ] A test of a program’s components\n",
    "- [x] **A test deployment to a subset of production hosts**\n",
    "- [ ] A small section of code\n",
    "\n",
    "### 5. It is advisable to collect monitoring information into a central location. Given the importance of the server handling the centralized collecting, when assessing risks from outages, this server could be described as what?\n",
    "- [x] **A failure domain**\n",
    "- [ ] A problem domain\n",
    "- [ ] CPU intensive\n",
    "- [ ] I/O intensive"
   ]
  }
 ],
 "metadata": {
  "kernelspec": {
   "display_name": "Python 3 (ipykernel)",
   "language": "python",
   "name": "python3"
  },
  "language_info": {
   "codemirror_mode": {
    "name": "ipython",
    "version": 3
   },
   "file_extension": ".py",
   "mimetype": "text/x-python",
   "name": "python",
   "nbconvert_exporter": "python",
   "pygments_lexer": "ipython3",
   "version": "3.9.1"
  }
 },
 "nbformat": 4,
 "nbformat_minor": 5
}
