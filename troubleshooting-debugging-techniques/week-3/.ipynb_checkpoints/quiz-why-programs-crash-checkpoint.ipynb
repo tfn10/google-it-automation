{
 "cells": [
  {
   "cell_type": "markdown",
   "id": "f204452c",
   "metadata": {},
   "source": [
    "### 1. When using Event Viewer on a Windows system, what is the best way to quickly access specific types of logs?\n",
    "- [ ] Export logs\n",
    "- [x] **Create a custom view**\n",
    "- [ ] Click on System Reports\n",
    "- [ ] Run the head command\n",
    "\n",
    "### 2. An employee runs an application on a shared office computer, and it crashes. This does not happen to other users on the same computer. After reviewing the application logs, you find that the employee didn’t have access to the application. What log error helped you reach this conclusion?\n",
    "- [ ] “No such file or directory”\n",
    "- [ ] “Connection refused”\n",
    "- [x] **“Permission denied”**\n",
    "- [ ] “Application terminated”\n",
    "\n",
    "### 3. What tool can we use to check the health of our RAM?\n",
    "- [ ] Event Viewer\n",
    "- [ ] S.M.A.R.T. tools\n",
    "- [x] **memtest86**\n",
    "- [ ] Process Monito\n",
    "\n",
    "### 4. You've just finished helping a user work around an issue in an application. What important but easy-to-forget step should we remember to do next?\n",
    "- [ ] Fix the code\n",
    "- [x] **Report the bug to the developers** \n",
    "- [ ] Reinstall the program\n",
    "- [ ] Change the user’s password\n",
    "\n",
    "### 5. A user is experiencing strange behavior from their computer. It is running slow and lagging, and having momentary freeze-ups that it does not usually have. The problem seems to be system-wide and not restricted to a particular application. What is the first thing to ask the user as to whether they have tried it?\n",
    "- [ ] Adding more RAM\n",
    "- [ ] Reinstalling Windows\n",
    "- [x] **Identified the bottleneck with a resource monitor**\n",
    "- [ ] Upgrade their HDD to an SSD"
   ]
  }
 ],
 "metadata": {
  "kernelspec": {
   "display_name": "Python 3 (ipykernel)",
   "language": "python",
   "name": "python3"
  },
  "language_info": {
   "codemirror_mode": {
    "name": "ipython",
    "version": 3
   },
   "file_extension": ".py",
   "mimetype": "text/x-python",
   "name": "python",
   "nbconvert_exporter": "python",
   "pygments_lexer": "ipython3",
   "version": "3.9.1"
  }
 },
 "nbformat": 4,
 "nbformat_minor": 5
}
