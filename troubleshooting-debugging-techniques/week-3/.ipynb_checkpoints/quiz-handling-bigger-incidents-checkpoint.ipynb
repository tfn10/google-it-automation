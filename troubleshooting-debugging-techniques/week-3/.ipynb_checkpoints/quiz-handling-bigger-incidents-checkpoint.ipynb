{
 "cells": [
  {
   "cell_type": "markdown",
   "id": "412ac9d4",
   "metadata": {},
   "source": [
    "### 1. Which of the following would be effective in resolving a large issue if it happens again in the future?\n",
    "- [ ] Incident controller\n",
    "- [x] **Postmortem**\n",
    "- [ ] Rollbacks\n",
    "- [ ] Load balancers\n",
    "\n",
    "### 2. During peak hours, users have reported issues connecting to a website. The website is hosted by two load balancing servers in the cloud and are connected to an external SQL database. Logs on both servers show an increase in CPU and RAM usage. What may be the most effective way to resolve this issue with a complex set of servers?\n",
    "- [ ] Use threading in the program\n",
    "- [ ] Cache data in memory\n",
    "- [x] **Automate deployment of additional servers**\n",
    "- [ ] Optimize the database\n",
    "\n",
    "### 3. It has become increasingly common to use cloud services and virtualization. Which kind of fix, in particular, does virtual cloud deployment speed up and simplify?\n",
    "- [x] **Deployment of new servers**\n",
    "- [ ] Application code fixes\n",
    "- [ ] Log reviewing\n",
    "- [ ] Postmortems\n",
    "\n",
    "### 4. What should we include in our postmortem? (Check all that apply)\n",
    "- [x] **Root cause of the issue**\n",
    "- [x] **How we diagnosed the problem**\n",
    "- [x] **How we fixed the problem**\n",
    "- [ ] Who caused the problem\n",
    "\n",
    "### 5. In general, what is the goal of a postmortem? (Check all that apply)\n",
    "- [ ] To identify who is at fault\n",
    "- [x] **To allow prevention in the future**\n",
    "- [x] **To allow speedy remediation of similar issues in the future**\n",
    "- [ ] To analyze all system bugs"
   ]
  }
 ],
 "metadata": {
  "kernelspec": {
   "display_name": "Python 3 (ipykernel)",
   "language": "python",
   "name": "python3"
  },
  "language_info": {
   "codemirror_mode": {
    "name": "ipython",
    "version": 3
   },
   "file_extension": ".py",
   "mimetype": "text/x-python",
   "name": "python",
   "nbconvert_exporter": "python",
   "pygments_lexer": "ipython3",
   "version": "3.9.1"
  }
 },
 "nbformat": 4,
 "nbformat_minor": 5
}
