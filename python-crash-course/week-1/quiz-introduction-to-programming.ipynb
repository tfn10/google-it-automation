{
 "cells": [
  {
   "cell_type": "markdown",
   "id": "47039c71",
   "metadata": {},
   "source": [
    "### 1. What’s a computer program?\n",
    "- [ ] A set of languages available in the computer\n",
    "- [ ] A process for getting duplicate values removed from a list\n",
    "- [x] **A list of instructions that the computer has to follow to reach a goal**\n",
    "- [ ] A file that gets copied to all machines in the network\n",
    "\n",
    "### 2. What’s the syntax of a language?\n",
    "- [x] **The rules of how to express things in that language**\n",
    "- [ ] The subject of a sentence\n",
    "- [ ] The difference between one language and another\n",
    "- [ ] The meaning of the words\n",
    "\n",
    "### 3. What’s the difference between a program and a script?\n",
    "- [x] **There’s not much difference, but scripts are usually simpler and shorter.**\n",
    "- [ ] Scripts are only written in Python.\n",
    "- [ ] Scripts can only be used for simple tasks.\n",
    "- [ ] Programs are written by software engineers; scripts are written by system administrators.\n",
    "\n",
    "### 4. Which of these scenarios are good candidates for automation? Select all that apply.\n",
    "- [x] **Generating a sales report, split by region and product type**\n",
    "- [ ] Creating your own startup company\n",
    "- [ ] Helping a user who’s having network troubles\n",
    "- [x] **Copying a file to all computers in a company**\n",
    "- [ ] Interviewing a candidate for a job\n",
    "- [x] **Sending personalized emails to subscribers of your website**\n",
    "- [ ] Investigating the root cause of a machine failing to boot\n",
    "\n",
    "### 5. What are semantics when applied to programming code and pseudocode?\n",
    "- [ ] The rules for how a programming instruction is written\n",
    "- [ ] The difference in number values in one instance of a script compared to another\n",
    "- [x] **The effect the programming instructions have**\n",
    "- [ ] The end result of a programming instruction"
   ]
  }
 ],
 "metadata": {
  "kernelspec": {
   "display_name": "Python 3 (ipykernel)",
   "language": "python",
   "name": "python3"
  },
  "language_info": {
   "codemirror_mode": {
    "name": "ipython",
    "version": 3
   },
   "file_extension": ".py",
   "mimetype": "text/x-python",
   "name": "python",
   "nbconvert_exporter": "python",
   "pygments_lexer": "ipython3",
   "version": "3.9.1"
  }
 },
 "nbformat": 4,
 "nbformat_minor": 5
}
