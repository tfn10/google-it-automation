{
 "cells": [
  {
   "cell_type": "markdown",
   "id": "de7a8f58",
   "metadata": {},
   "source": [
    "### 1. Fill in the correct Python command to put “My first Python program” onto the screen."
   ]
  },
  {
   "cell_type": "code",
   "execution_count": 1,
   "id": "3da7fc73",
   "metadata": {},
   "outputs": [
    {
     "name": "stdout",
     "output_type": "stream",
     "text": [
      "My first Python program\n"
     ]
    }
   ],
   "source": [
    "print(\"My first Python program\")"
   ]
  },
  {
   "cell_type": "markdown",
   "id": "b709c8c5",
   "metadata": {},
   "source": [
    "### 2. Python is an example of what type of programming language?\n",
    "- [x] **General purpose scripting language**\n",
    "- [ ] Client-side scripting language\n",
    "- [ ] Platform-specific scripting language\n",
    "- [ ] Machine language"
   ]
  },
  {
   "cell_type": "markdown",
   "id": "66e0fb66",
   "metadata": {},
   "source": [
    "### 3. Convert this Bash command into Python:"
   ]
  },
  {
   "cell_type": "code",
   "execution_count": 2,
   "id": "3a5ebd5c",
   "metadata": {},
   "outputs": [
    {
     "name": "stdout",
     "output_type": "stream",
     "text": [
      "Have a nice day\n"
     ]
    }
   ],
   "source": [
    "print('Have a nice day')"
   ]
  },
  {
   "cell_type": "markdown",
   "id": "e15cc918",
   "metadata": {},
   "source": [
    "### 4. Fill in the correct Python commands to put “This is fun!” onto the screen 5 times. "
   ]
  },
  {
   "cell_type": "code",
   "execution_count": 6,
   "id": "9bd3935e",
   "metadata": {},
   "outputs": [
    {
     "name": "stdout",
     "output_type": "stream",
     "text": [
      "This is fun!\n",
      "This is fun!\n",
      "This is fun!\n",
      "This is fun!\n",
      "This is fun!\n"
     ]
    }
   ],
   "source": [
    "for i in range(0, 5):\n",
    "  print(\"This is fun!\")"
   ]
  },
  {
   "cell_type": "markdown",
   "id": "676f2081",
   "metadata": {},
   "source": [
    "### 5. Select the Python code snippet that corresponds to the following Javascript snippet:"
   ]
  },
  {
   "cell_type": "markdown",
   "id": "edf36fd1",
   "metadata": {},
   "source": [
    "```javascript\n",
    "for (let i = 0; i < 10; i++) {\n",
    "        console.log(i);\n",
    "    }\n",
    "\n",
    "```"
   ]
  },
  {
   "cell_type": "code",
   "execution_count": 2,
   "id": "8a652ca4",
   "metadata": {},
   "outputs": [
    {
     "name": "stdout",
     "output_type": "stream",
     "text": [
      "0\n",
      "1\n",
      "2\n",
      "3\n",
      "4\n",
      "5\n",
      "6\n",
      "7\n",
      "8\n",
      "9\n"
     ]
    }
   ],
   "source": [
    "for i in range(10):\n",
    "  print(i)\n",
    "\n"
   ]
  }
 ],
 "metadata": {
  "kernelspec": {
   "display_name": "Python 3 (ipykernel)",
   "language": "python",
   "name": "python3"
  },
  "language_info": {
   "codemirror_mode": {
    "name": "ipython",
    "version": 3
   },
   "file_extension": ".py",
   "mimetype": "text/x-python",
   "name": "python",
   "nbconvert_exporter": "python",
   "pygments_lexer": "ipython3",
   "version": "3.9.1"
  }
 },
 "nbformat": 4,
 "nbformat_minor": 5
}
