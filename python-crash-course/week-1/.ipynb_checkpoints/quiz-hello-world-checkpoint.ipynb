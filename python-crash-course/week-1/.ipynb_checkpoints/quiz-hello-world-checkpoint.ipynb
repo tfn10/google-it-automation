{
 "cells": [
  {
   "cell_type": "markdown",
   "id": "769c62b5",
   "metadata": {},
   "source": [
    "### 1. What are functions in Python?\n",
    "- [ ] Functions let us to use Python as a calculator.\n",
    "- [x] **Functions are pieces of code that perform a unit of work.**\n",
    "- [ ] Functions are only used to print messages to the screen.\n",
    "- [ ] Functions are how we tell if our program is functioning or not.\n",
    "\n",
    "### 2. What are keywords in Python?\n",
    "- [x] **Keywords are reserved words that are used to construct instructions.**\n",
    "- [ ] Keywords are used to calculate mathematical operations.\n",
    "- [ ] Keywords are used to print messages like \"Hello World!\" to the screen.\n",
    "- [ ] Keywords are the words that we need to memorize to program in Python.\n",
    "\n",
    "### 3. What does the print function do in Python?\n",
    "- [ ] The print function generates PDFs and sends it to the nearest printer.\n",
    "- [ ] The print function stores values provided by the user.\n",
    "- [x] **The print function outputs messages to the screen**\n",
    "- [ ] The print function calculates mathematical operations."
   ]
  },
  {
   "cell_type": "markdown",
   "id": "e2b48214",
   "metadata": {},
   "source": [
    "### 4. Output a message that says \"Programming in Python is fun!\" to the screen."
   ]
  },
  {
   "cell_type": "code",
   "execution_count": 2,
   "id": "56f3c0db",
   "metadata": {},
   "outputs": [
    {
     "name": "stdout",
     "output_type": "stream",
     "text": [
      "Programming in Python is fun!\n"
     ]
    }
   ],
   "source": [
    "print('Programming in Python is fun!')\n"
   ]
  },
  {
   "cell_type": "markdown",
   "id": "8fc1853c",
   "metadata": {},
   "source": [
    "### 5. Replace the ___ placeholder and calculate the Golden ratio:  $\\frac{1+\\sqrt{5}}{2}$\n",
    "#### Tip: to calculate the square root of a number xx, you can use x**(1/2)."
   ]
  },
  {
   "cell_type": "code",
   "execution_count": 1,
   "id": "1d087297",
   "metadata": {},
   "outputs": [
    {
     "name": "stdout",
     "output_type": "stream",
     "text": [
      "1.618033988749895\n"
     ]
    }
   ],
   "source": [
    "ratio = (1+(5**(1/2)))/2\n",
    "print(ratio)"
   ]
  }
 ],
 "metadata": {
  "kernelspec": {
   "display_name": "Python 3 (ipykernel)",
   "language": "python",
   "name": "python3"
  },
  "language_info": {
   "codemirror_mode": {
    "name": "ipython",
    "version": 3
   },
   "file_extension": ".py",
   "mimetype": "text/x-python",
   "name": "python",
   "nbconvert_exporter": "python",
   "pygments_lexer": "ipython3",
   "version": "3.9.1"
  }
 },
 "nbformat": 4,
 "nbformat_minor": 5
}
