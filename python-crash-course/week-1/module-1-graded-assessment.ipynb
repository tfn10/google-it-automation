{
 "cells": [
  {
   "cell_type": "markdown",
   "id": "d7dc364b",
   "metadata": {},
   "source": [
    "### 1. What is a computer program?\n",
    "- [ ] A file that gets printed by the Python interpreter.\n",
    "- [ ] The syntax and semantics of Python.\n",
    "- [ ] The overview of what the computer will have to do to solve some automation problem.\n",
    "- [x] **A step-by-step recipe of what needs to be done to complete a task, that gets executed by the computer.**\n",
    "\n",
    "### 2. What’s automation?\n",
    "- [ ] The inputs and outputs of a program.\n",
    "- [x] **The process of replacing a manual step with one that happens automatically.**\n",
    "- [ ] The checkout processes at a grocery store.\n",
    "- [ ] The process of getting a haircut.\n",
    "\n",
    "### 3. Which of the following tasks are good candidates for automation? Check all that apply.\n",
    "- [ ] Writing a computer program.\n",
    "- [x] **Creating a report of how much each sales person has sold in the last month.**\n",
    "- [x] **Setting the home directory and access permissions for new employees joining your company.**\n",
    "- [ ] Designing the new webpage for your company.\n",
    "- [ ] Taking pictures of friends and family at a wedding.\n",
    "- [x] **Populating your company's e-commerce site with the latest products in the catalog.**\n",
    "\n",
    "### 4. What are some characteristics of the Python programming language? Check all that apply.\n",
    "- [x] **Python programs are easy to write and understand**\n",
    "- [x] **The Python interpreter reads our code and transforms it into computer instructions.**\n",
    "- [ ] It's an outdated language that's barely in use anymore.\n",
    "- [x] **We can practice Python using web interpreters or codepads as well as executing it locally.**\n",
    "\n",
    "### 5. How does Python compare to other programming languages?\n",
    "- [ ] Python is the only programming language that is worth learning.\n",
    "- [x] **Each programming language has its advantages and disadvantages.**\n",
    "- [ ] It's always better to use an OS specific language like Bash or Powershell than using a generic language like Python.\n",
    "- [ ] Programming languages are so different that learning a second one is harder than learning the first one."
   ]
  },
  {
   "cell_type": "markdown",
   "id": "ca7a258b",
   "metadata": {},
   "source": [
    "### 6. Write a Python script that outputs \"Automating with Python is fun!\" to the screen."
   ]
  },
  {
   "cell_type": "code",
   "execution_count": 1,
   "id": "81639b4c",
   "metadata": {},
   "outputs": [
    {
     "name": "stdout",
     "output_type": "stream",
     "text": [
      "Automating with Python is fun!\n"
     ]
    }
   ],
   "source": [
    "print('Automating with Python is fun!')''"
   ]
  },
  {
   "cell_type": "markdown",
   "id": "bbdc40f4",
   "metadata": {},
   "source": [
    "### 7. Fill in the blanks so that the code prints \"Yellow is the color of sunshine\"."
   ]
  },
  {
   "cell_type": "code",
   "execution_count": 2,
   "id": "4a909f4c",
   "metadata": {},
   "outputs": [
    {
     "name": "stdout",
     "output_type": "stream",
     "text": [
      "Yellow is the color of sunshine\n"
     ]
    }
   ],
   "source": [
    "color = 'Yellow'\n",
    "thing = 'sunshine'\n",
    "print(color + \" is the color of \" + thing)"
   ]
  },
  {
   "cell_type": "markdown",
   "id": "20cffe35",
   "metadata": {},
   "source": [
    "### 8. Keeping in mind there are 86400 seconds per day, write a program that calculates how many seconds there are in a week, if a week is 7 days.  Print the result on the screen. Note: Your result should be in the format of just a number, not a sentence."
   ]
  },
  {
   "cell_type": "code",
   "execution_count": 3,
   "id": "5022b9ef",
   "metadata": {},
   "outputs": [
    {
     "name": "stdout",
     "output_type": "stream",
     "text": [
      "604800\n"
     ]
    }
   ],
   "source": [
    "day = 86400\n",
    "week = day * 7\n",
    "print(week)"
   ]
  },
  {
   "cell_type": "markdown",
   "id": "65a71931",
   "metadata": {},
   "source": [
    "### 9. Use Python to calculate how many different passwords can be formed with 6 lower case English letters.  For a 1 letter password, there would be 26 possibilities.  For a 2 letter password, each letter is independent of the other, so there would be 26 times 26 possibilities.  Using this information, print the amount of possible passwords that can be formed with 6 letters."
   ]
  },
  {
   "cell_type": "code",
   "execution_count": 1,
   "id": "622ca78f",
   "metadata": {},
   "outputs": [
    {
     "name": "stdout",
     "output_type": "stream",
     "text": [
      "308915776\n"
     ]
    }
   ],
   "source": [
    "password = 26 ** 6\n",
    "print(password)"
   ]
  },
  {
   "cell_type": "markdown",
   "id": "63e6dfb7",
   "metadata": {},
   "source": [
    "### 10. Most hard drives are divided into sectors of 512 bytes each.  Our disk has a size of 16 GB. Fill in the blank to calculate how many sectors the disk has.\n",
    "\n",
    "#### Note: Your result should be in the format of just a number, not a sentence.\n",
    "\n",
    "\n"
   ]
  },
  {
   "cell_type": "code",
   "execution_count": 2,
   "id": "75dd338d",
   "metadata": {},
   "outputs": [
    {
     "name": "stdout",
     "output_type": "stream",
     "text": [
      "33554432.0\n"
     ]
    }
   ],
   "source": [
    "disk_size = 16*1024*1024*1024\n",
    "sector_size = 512\n",
    "sector_amount = disk_size/sector_size\n",
    "\n",
    "print(sector_amount)"
   ]
  }
 ],
 "metadata": {
  "kernelspec": {
   "display_name": "Python 3 (ipykernel)",
   "language": "python",
   "name": "python3"
  },
  "language_info": {
   "codemirror_mode": {
    "name": "ipython",
    "version": 3
   },
   "file_extension": ".py",
   "mimetype": "text/x-python",
   "name": "python",
   "nbconvert_exporter": "python",
   "pygments_lexer": "ipython3",
   "version": "3.9.1"
  }
 },
 "nbformat": 4,
 "nbformat_minor": 5
}
