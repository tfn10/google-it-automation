{
 "cells": [
  {
   "cell_type": "markdown",
   "id": "df62a39e",
   "metadata": {},
   "source": [
    "### 1. What's the value of this Python expression: (2**2) == 4?\n",
    "- [ ] 4\n",
    "- [ ] 2**2\n",
    "- [x] **True**\n",
    "- [ ] False\n",
    "\n",
    "\n"
   ]
  },
  {
   "cell_type": "markdown",
   "id": "2b8fbbf8",
   "metadata": {},
   "source": [
    "### 2. Complete the script by filling in the missing parts. The function receives a name, then returns a greeting based on whether or not that name is \"Taylor\"."
   ]
  },
  {
   "cell_type": "code",
   "execution_count": 1,
   "id": "a70b74ba",
   "metadata": {},
   "outputs": [
    {
     "name": "stdout",
     "output_type": "stream",
     "text": [
      "Welcome back Taylor!\n",
      "Hello there, John\n"
     ]
    }
   ],
   "source": [
    "def greeting(name):\n",
    "  if name == \"Taylor\":\n",
    "    return \"Welcome back Taylor!\"\n",
    "  else:\n",
    "    return \"Hello there, \" + name\n",
    "\n",
    "print(greeting(\"Taylor\"))\n",
    "print(greeting(\"John\"))"
   ]
  },
  {
   "cell_type": "markdown",
   "id": "8520d928",
   "metadata": {},
   "source": [
    "### 3. What’s the output of this code if number equals 10?\n",
    "```python\n",
    "if number > 11: \n",
    "  print(0)\n",
    "elif number != 10:\n",
    "  print(1)\n",
    "elif number >= 20 or number < 12:\n",
    "  print(2)\n",
    "else:\n",
    "  print(3)\n",
    "```\n",
    "#### Answer: 2"
   ]
  },
  {
   "cell_type": "markdown",
   "id": "84aebed0",
   "metadata": {},
   "source": [
    "### 4. Is \"A dog\" smaller or larger than \"A mouse\"? Is 9999+8888 smaller or larger than 100*100? Replace the plus sign in the following code to let Python check it for you and then answer.\n",
    "```python\n",
    "print(\"A dog\" < \"A mouse\")\n",
    "print(9999+8888 < 100*100)\n",
    "```\n",
    "- [ ] \"A dog\" is larger than \"A mouse\" and 9999+8888 is larger than 100*100\n",
    "- [x] **\"A dog\" is smaller than \"A mouse\" and 9999+8888 is larger than 100*100**\n",
    "- [ ] \"A dog\" is larger than \"A mouse\" and 9999+8888 is smaller than 100*100\n",
    "- [ ] \"A dog\" is smaller than \"A mouse\" and 9999+8888 is smaller than 100*100"
   ]
  },
  {
   "cell_type": "markdown",
   "id": "86291a54",
   "metadata": {},
   "source": [
    "### 5. If a filesystem has a block size of 4096 bytes, this means that a file comprised of only one byte will still use 4096 bytes of storage. A file made up of 4097 bytes will use 4096*2=8192 bytes of storage. Knowing this, can you fill in the gaps in the calculate_storage function below, which calculates the total number of bytes needed to store a file of a given size?"
   ]
  },
  {
   "cell_type": "code",
   "execution_count": 3,
   "id": "6d4fbdfc",
   "metadata": {},
   "outputs": [
    {
     "name": "stdout",
     "output_type": "stream",
     "text": [
      "4096\n",
      "4096\n",
      "8192\n",
      "8192\n"
     ]
    }
   ],
   "source": [
    "def calculate_storage(filesize):\n",
    "    block_size = 4096\n",
    "    # Use floor division to calculate how many blocks are fully occupied\n",
    "    full_blocks = filesize // 4096\n",
    "    # Use the modulo operator to check whether there's any remainder\n",
    "    partial_block_remainder = filesize % block_size\n",
    "    # Depending on whether there's a remainder or not, return\n",
    "    # the total number of bytes required to allocate enough blocks\n",
    "    # to store your data.\n",
    "    if partial_block_remainder > 0:\n",
    "        return block_size + block_size * full_blocks\n",
    "    return block_size * full_blocks\n",
    "\n",
    "print(calculate_storage(1))    # Should be 4096\n",
    "print(calculate_storage(4096)) # Should be 4096\n",
    "print(calculate_storage(4097)) # Should be 8192\n",
    "print(calculate_storage(6000)) # Should be 8192"
   ]
  }
 ],
 "metadata": {
  "kernelspec": {
   "display_name": "Python 3 (ipykernel)",
   "language": "python",
   "name": "python3"
  },
  "language_info": {
   "codemirror_mode": {
    "name": "ipython",
    "version": 3
   },
   "file_extension": ".py",
   "mimetype": "text/x-python",
   "name": "python",
   "nbconvert_exporter": "python",
   "pygments_lexer": "ipython3",
   "version": "3.9.1"
  }
 },
 "nbformat": 4,
 "nbformat_minor": 5
}
