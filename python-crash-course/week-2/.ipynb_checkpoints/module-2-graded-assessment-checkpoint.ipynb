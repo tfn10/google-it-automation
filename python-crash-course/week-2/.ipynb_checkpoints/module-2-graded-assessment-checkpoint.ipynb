{
 "cells": [
  {
   "cell_type": "markdown",
   "id": "706ad552",
   "metadata": {},
   "source": [
    "### 1. Complete the function by filling in the missing parts. The color_translator function receives the name of a color, then prints its hexadecimal value. Currently, it only supports the three additive primary colors (red, green, blue), so it returns \"unknown\" for all other colors."
   ]
  },
  {
   "cell_type": "code",
   "execution_count": 1,
   "id": "05b2630a",
   "metadata": {},
   "outputs": [
    {
     "name": "stdout",
     "output_type": "stream",
     "text": [
      "#0000ff\n",
      "unknown\n",
      "#ff0000\n",
      "unknown\n",
      "#00ff00\n",
      "unknown\n"
     ]
    }
   ],
   "source": [
    "def color_translator(color):\n",
    "    if color == \"red\":\n",
    "        hex_color = \"#ff0000\"\n",
    "    elif color == \"green\":\n",
    "        hex_color = \"#00ff00\"\n",
    "    elif color == \"blue\":\n",
    "        hex_color = \"#0000ff\"\n",
    "    else:\n",
    "        hex_color = \"unknown\"\n",
    "    return hex_color\n",
    "\n",
    "print(color_translator(\"blue\")) # Should be #0000ff\n",
    "print(color_translator(\"yellow\")) # Should be unknown\n",
    "print(color_translator(\"red\")) # Should be #ff0000\n",
    "print(color_translator(\"black\")) # Should be unknown\n",
    "print(color_translator(\"green\")) # Should be #00ff00\n",
    "print(color_translator(\"\")) # Should be unknown"
   ]
  },
  {
   "cell_type": "markdown",
   "id": "3cc2a1c5",
   "metadata": {},
   "source": [
    "### 2. What's the value of this Python expression: \"big\" > \"small\"\n",
    "- [ ] True\n",
    "- [x] **False**\n",
    "- [ ] big\n",
    "- [ ] small"
   ]
  },
  {
   "cell_type": "markdown",
   "id": "c6ce363b",
   "metadata": {},
   "source": [
    "### 3. What is the elif keyword used for?\n",
    "- [ ] To mark the end of the if statement\n",
    "- [x] **To handle more than two comparison cases**\n",
    "- [ ] To replace the \"or\" clause in the if statement\n",
    "- [ ] Nothing - it's a misspelling of the else-if keyword"
   ]
  },
  {
   "cell_type": "markdown",
   "id": "6f62fe04",
   "metadata": {},
   "source": [
    "### 4. Students in a class receive their grades as Pass/Fail. Scores of 60 or more (out of 100) mean that the grade is \"Pass\". For lower scores, the grade is \"Fail\". In addition, scores above 95 (not included) are graded as \"Top Score\". Fill in this function so that it returns the proper grade."
   ]
  },
  {
   "cell_type": "code",
   "execution_count": 2,
   "id": "15caa9b3",
   "metadata": {},
   "outputs": [
    {
     "name": "stdout",
     "output_type": "stream",
     "text": [
      "Pass\n",
      "Fail\n",
      "Pass\n",
      "Pass\n",
      "Top Score\n",
      "Fail\n"
     ]
    }
   ],
   "source": [
    "def exam_grade(score):\n",
    "    if score > 95:\n",
    "        grade = \"Top Score\"\n",
    "    elif score >= 60:\n",
    "        grade = \"Pass\"\n",
    "    else:\n",
    "        grade = \"Fail\"\n",
    "    return grade\n",
    "\n",
    "print(exam_grade(65)) # Should be Pass\n",
    "print(exam_grade(55)) # Should be Fail\n",
    "print(exam_grade(60)) # Should be Pass\n",
    "print(exam_grade(95)) # Should be Pass\n",
    "print(exam_grade(100)) # Should be Top Score\n",
    "print(exam_grade(0)) # Should be Fail"
   ]
  },
  {
   "cell_type": "markdown",
   "id": "20f25fea",
   "metadata": {},
   "source": [
    "### 5. What's the value of this Python expression: 11 % 5?\n",
    "- [ ] 2.2\n",
    "- [ ] 2\n",
    "- [x] **1**\n",
    "- [ ] 0"
   ]
  },
  {
   "cell_type": "markdown",
   "id": "fe115198",
   "metadata": {},
   "source": [
    "### 6. Complete the body of the *format_name* function. This function receives the *first_name* and *last_name* parameters and then returns a properly formatted string.\n",
    "#### Specifically:\n",
    "#### If both the *last_name* and the *first_name* parameters are supplied, the function should return like so:\n",
    "```python\n",
    "print(format_name(\"Ella\", \"Fitzgerald\"))\n",
    "Name: Fitzgerald, Ella\n",
    "```\n",
    "#### If only *one* name parameter is supplied (either the first name or the last name) , the function should return like so:\n",
    "```python\n",
    "print(format_name(\"Adele\", \"\"))\n",
    "Name: Adele\n",
    "```\n",
    "#### or\n",
    "```python\n",
    "print(format_name(\"\", \"Einstein\"))\n",
    "Name: Einstein\n",
    "```\n",
    "#### Finally, if both names are blank, the function should return the empty string:\n",
    "```python\n",
    "print(format_name(\"\", \"\"))\n",
    "```\n",
    "#### Implement below:"
   ]
  },
  {
   "cell_type": "code",
   "execution_count": 3,
   "id": "7f45d12f",
   "metadata": {},
   "outputs": [
    {
     "name": "stdout",
     "output_type": "stream",
     "text": [
      "Name: Hemingway, Ernest\n",
      "Name: Madonna\n",
      "Name: Voltaire\n",
      "\n"
     ]
    }
   ],
   "source": [
    "def format_name(first_name, last_name):\n",
    "    # code goes here\n",
    "    if first_name != \"\" and last_name != \"\":\n",
    "        string = f'Name: {last_name}, {first_name}'\n",
    "    elif first_name == \"\" and last_name != \"\":\n",
    "        string = f'Name: {last_name}'\n",
    "    elif first_name != \"\" and last_name == \"\":\n",
    "        string = f'Name: {first_name}'\n",
    "    elif first_name == \"\" and last_name == \"\":\n",
    "        string = \"\"\n",
    "    return string \n",
    "\n",
    "print(format_name(\"Ernest\", \"Hemingway\"))\n",
    "# Should return the string \"Name: Hemingway, Ernest\"\n",
    "\n",
    "print(format_name(\"\", \"Madonna\"))\n",
    "# Should return the string \"Name: Madonna\"\n",
    "\n",
    "print(format_name(\"Voltaire\", \"\"))\n",
    "# Should return the string \"Name: Voltaire\"\n",
    "\n",
    "print(format_name(\"\", \"\"))\n",
    "# Should return an empty string"
   ]
  },
  {
   "cell_type": "markdown",
   "id": "dd24a37e",
   "metadata": {},
   "source": [
    "### 7. The longest_word function is used to compare 3 words. It should return the word with the most number of characters (and the first in the list when they have the same length). Fill in the blank to make this happen."
   ]
  },
  {
   "cell_type": "code",
   "execution_count": 4,
   "id": "aa814877",
   "metadata": {},
   "outputs": [
    {
     "name": "stdout",
     "output_type": "stream",
     "text": [
      "chair\n",
      "beyond\n",
      "notebook\n"
     ]
    }
   ],
   "source": [
    "def longest_word(word1, word2, word3):\n",
    "    if len(word1) >= len(word2) and len(word1) >= len(word3):\n",
    "        word = word1\n",
    "    elif len(word2) >= len(word1) and len(word2) >= len(word3):\n",
    "        word = word2\n",
    "    else:\n",
    "        word = word3\n",
    "    return(word)\n",
    "\n",
    "print(longest_word(\"chair\", \"couch\", \"table\"))\n",
    "print(longest_word(\"bed\", \"bath\", \"beyond\"))\n",
    "print(longest_word(\"laptop\", \"notebook\", \"desktop\"))"
   ]
  },
  {
   "cell_type": "markdown",
   "id": "267d1466",
   "metadata": {},
   "source": [
    "### 8. What’s the output of this code?\n",
    "```python\n",
    "def sum(x, y):\n",
    "\t\treturn(x+y)\n",
    "print(sum(sum(1,2), sum(3,4)))\n",
    "```\n",
    "#### Answer: 10"
   ]
  },
  {
   "cell_type": "markdown",
   "id": "33380f39",
   "metadata": {},
   "source": [
    "### 9. What's the value of this Python expression?\n",
    "#### ((10 >= 5*2) and (10 <= 5*2))\n",
    "\n",
    "- [x] **True**\n",
    "- [ ] False\n",
    "- [ ] 10\n",
    "- [ ] 5*2"
   ]
  },
  {
   "cell_type": "markdown",
   "id": "2ee273e8",
   "metadata": {},
   "source": [
    "### 10. The fractional_part function divides the numerator by the denominator, and returns just the fractional part (a number between 0 and 1). Complete the body of the function so that it returns the right number.\n",
    "#### Note: Since division by 0 produces an error, if the denominator is 0, the function should return 0 instead of attempting the division."
   ]
  },
  {
   "cell_type": "code",
   "execution_count": 6,
   "id": "712a5bac",
   "metadata": {},
   "outputs": [
    {
     "name": "stdout",
     "output_type": "stream",
     "text": [
      "0.0\n",
      "0.25\n",
      "0.6666666666666667\n",
      "0.5\n",
      "0\n",
      "0.0\n"
     ]
    }
   ],
   "source": [
    "def fractional_part(numerator, denominator):\n",
    "    # Operate with numerator and denominator to \n",
    "# keep just the fractional part of the quotient\n",
    "    if denominator == 0:\n",
    "        return 0\n",
    "    else:\n",
    "        divisao = numerator/denominator\n",
    "        divisao_inteira = numerator//denominator\n",
    "        parte_fracionada = divisao - divisao_inteira\n",
    "        return parte_fracionada\n",
    "\n",
    "print(fractional_part(5, 5)) # Should be 0\n",
    "print(fractional_part(5, 4)) # Should be 0.25\n",
    "print(fractional_part(5, 3)) # Should be 0.66...\n",
    "print(fractional_part(5, 2)) # Should be 0.5\n",
    "print(fractional_part(5, 0)) # Should be 0\n",
    "print(fractional_part(0, 5)) # Should be 0"
   ]
  }
 ],
 "metadata": {
  "kernelspec": {
   "display_name": "Python 3 (ipykernel)",
   "language": "python",
   "name": "python3"
  },
  "language_info": {
   "codemirror_mode": {
    "name": "ipython",
    "version": 3
   },
   "file_extension": ".py",
   "mimetype": "text/x-python",
   "name": "python",
   "nbconvert_exporter": "python",
   "pygments_lexer": "ipython3",
   "version": "3.9.1"
  }
 },
 "nbformat": 4,
 "nbformat_minor": 5
}
