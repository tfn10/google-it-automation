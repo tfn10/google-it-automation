{
 "cells": [
  {
   "cell_type": "markdown",
   "id": "4e53ddea",
   "metadata": {},
   "source": [
    "### 1. This function converts miles to kilometers (km).\n",
    "#### 1. Complete the function to return the result of the conversion\n",
    "#### 2. Call the function to convert the trip distance from miles to kilometers\n",
    "#### 3. Fill in the blank to print the result of the conversion\n",
    "#### 4. Calculate the round-trip in kilometers by doubling the result, and fill in the blank to print the result"
   ]
  },
  {
   "cell_type": "code",
   "execution_count": 1,
   "id": "747993fd",
   "metadata": {},
   "outputs": [
    {
     "name": "stdout",
     "output_type": "stream",
     "text": [
      "The distance in kilometers is 88.0\n",
      "The round-trip in kilometers is 176.0\n"
     ]
    }
   ],
   "source": [
    "# 1) Complete the function to return the result of the conversion\n",
    "def convert_distance(miles):\n",
    "    km = miles * 1.6  # approximately 1.6 km in 1 mile\n",
    "    return km\n",
    "\n",
    "my_trip_miles = 55\n",
    "\n",
    "# 2) Convert my_trip_miles to kilometers by calling the function above\n",
    "my_trip_km = convert_distance(my_trip_miles)\n",
    "\n",
    "# 3) Fill in the blank to print the result of the conversion\n",
    "print(\"The distance in kilometers is \" + str(my_trip_km))\n",
    "\n",
    "# 4) Calculate the round-trip in kilometers by doubling the result,\n",
    "#    and fill in the blank to print the result\n",
    "print(\"The round-trip in kilometers is \" + str(2*my_trip_km))"
   ]
  },
  {
   "cell_type": "markdown",
   "id": "a03df186",
   "metadata": {},
   "source": [
    "### 2. This function compares two numbers and returns them in increasing order.\n",
    "#### 1. Fill in the blanks, so the print statement displays the result of the function call in order.\n",
    "#### Hint: if a function returns multiple values, don't forget to store these values in multiple variables\n"
   ]
  },
  {
   "cell_type": "code",
   "execution_count": 3,
   "id": "e24c686f",
   "metadata": {},
   "outputs": [
    {
     "name": "stdout",
     "output_type": "stream",
     "text": [
      "99 100\n"
     ]
    }
   ],
   "source": [
    "# This function compares two numbers and returns them\n",
    "# in increasing order.\n",
    "def order_numbers(number1, number2):\n",
    "    if number2 > number1:\n",
    "        return number1, number2\n",
    "    else:\n",
    "        return number2, number1\n",
    "\n",
    "# 1) Fill in the blanks so the print statement displays the result\n",
    "#    of the function call\n",
    "smaller, bigger = order_numbers(100, 99)\n",
    "print(smaller, bigger)"
   ]
  },
  {
   "cell_type": "markdown",
   "id": "157b9a89",
   "metadata": {},
   "source": [
    "### 3. What are the values passed into functions as input called?\n",
    "- [ ] Variables\n",
    "- [ ] Return values\n",
    "- [x] **Parameters**\n",
    "- [ ] Data types\n",
    "\n",
    "\n"
   ]
  },
  {
   "cell_type": "markdown",
   "id": "1d8a5c33",
   "metadata": {},
   "source": [
    "### 4. Let's revisit our lucky_number function. We want to change it, so that instead of printing the message, it returns the message. This way, the calling line can print the message, or do something else with it if needed. Fill in the blanks to complete the code to make it work."
   ]
  },
  {
   "cell_type": "code",
   "execution_count": 4,
   "id": "7e6dd48d",
   "metadata": {},
   "outputs": [
    {
     "name": "stdout",
     "output_type": "stream",
     "text": [
      "Hello Kay. Your lucky number is 27\n",
      "Hello Cameron. Your lucky number is 63\n"
     ]
    }
   ],
   "source": [
    "def lucky_number(name):\n",
    "  number = len(name) * 9\n",
    "  result = \"Hello \" + name + \". Your lucky number is \" + str(number)\n",
    "  return result  \n",
    "print(lucky_number(\"Kay\"))\n",
    "print(lucky_number(\"Cameron\"))"
   ]
  },
  {
   "cell_type": "markdown",
   "id": "7ee3f64b",
   "metadata": {},
   "source": [
    "### 5. What is the purpose of the def keyword?\n",
    "- [x] **Used to define a new function**\n",
    "- [ ] Used to define a return value\n",
    "- [ ] Used to define a new variable\n",
    "- [ ] Used to define a new parameter\n",
    "\n",
    "\n"
   ]
  }
 ],
 "metadata": {
  "kernelspec": {
   "display_name": "Python 3 (ipykernel)",
   "language": "python",
   "name": "python3"
  },
  "language_info": {
   "codemirror_mode": {
    "name": "ipython",
    "version": 3
   },
   "file_extension": ".py",
   "mimetype": "text/x-python",
   "name": "python",
   "nbconvert_exporter": "python",
   "pygments_lexer": "ipython3",
   "version": "3.9.1"
  }
 },
 "nbformat": 4,
 "nbformat_minor": 5
}
